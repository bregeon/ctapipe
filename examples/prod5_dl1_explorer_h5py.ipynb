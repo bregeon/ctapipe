{
 "cells": [
  {
   "cell_type": "code",
   "execution_count": 24,
   "metadata": {},
   "outputs": [
    {
     "name": "stdout",
     "output_type": "stream",
     "text": [
      "/home/bregeon/CTA/pipelines/dl1pipe/ctapipe/examples\r\n"
     ]
    }
   ],
   "source": [
    "import sys\n",
    "import numpy as np\n",
    "import matplotlib.pyplot as plt\n",
    "import pandas as pd\n",
    "from scipy import stats\n",
    "\n",
    "from ctapipe.visualization import CameraDisplay\n",
    "from ctapipe.instrument import CameraGeometry\n",
    "\n",
    "from h5py import File\n",
    "!pwd"
   ]
  },
  {
   "cell_type": "code",
   "execution_count": 25,
   "metadata": {},
   "outputs": [],
   "source": [
    "file = File('../gamma_prod5_DL1_small.h5', 'r')"
   ]
  },
  {
   "cell_type": "code",
   "execution_count": 28,
   "metadata": {},
   "outputs": [
    {
     "name": "stdout",
     "output_type": "stream",
     "text": [
      "['configuration', 'dl1', 'simulation']\n"
     ]
    }
   ],
   "source": [
    "print(list(file.keys()))"
   ]
  },
  {
   "cell_type": "code",
   "execution_count": 73,
   "metadata": {},
   "outputs": [
    {
     "name": "stdout",
     "output_type": "stream",
     "text": [
      "Config keys ['instrument', 'simulation']\n"
     ]
    }
   ],
   "source": [
    "config = file['configuration']\n",
    "print('Config keys', list(config.keys()))\n",
    "instrument = config['instrument']\n",
    "subarray = instrument['subarray']\n",
    "telescope = instrument['telescope']\n",
    "camera = telescope['camera']\n",
    "optics = telescope['optics']\n",
    "layout = subarray['layout']"
   ]
  },
  {
   "cell_type": "code",
   "execution_count": 80,
   "metadata": {},
   "outputs": [
    {
     "data": {
      "text/plain": [
       "array([( 1,  -70.93000031,  -52.06999969, 43.        , b'LST', b'LST', 1, b'LSTCam', b'LST_LST_LSTCam'),\n",
       "       ( 2,  -35.27000046,   66.13999939, 32.        , b'LST', b'LST', 1, b'LSTCam', b'LST_LST_LSTCam'),\n",
       "       ( 3,   75.27999878,   50.49000168, 28.70000076, b'LST', b'LST', 1, b'LSTCam', b'LST_LST_LSTCam'),\n",
       "       ( 4,   30.90999985,  -64.54000092, 32.        , b'LST', b'LST', 1, b'LSTCam', b'LST_LST_LSTCam'),\n",
       "       ( 5, -211.53999329,    5.65999985, 50.29999924, b'MST', b'MST', 1, b'NectarCam', b'MST_MST_NectarCam'),\n",
       "       ( 6, -153.25999451,  169.00999451, 24.        , b'MST', b'MST', 1, b'NectarCam', b'MST_MST_NectarCam'),\n",
       "       ( 7,   27.06999969,  198.71000671, 12.19999981, b'MST', b'MST', 1, b'NectarCam', b'MST_MST_NectarCam'),\n",
       "       ( 8,  175.61000061,   73.05999756,  9.        , b'MST', b'MST', 1, b'NectarCam', b'MST_MST_NectarCam'),\n",
       "       ( 9,  140.        , -189.        , 29.        , b'MST', b'MST', 1, b'NectarCam', b'MST_MST_NectarCam'),\n",
       "       (10,  -75.62999725, -189.        , 42.20000076, b'MST', b'MST', 1, b'NectarCam', b'MST_MST_NectarCam'),\n",
       "       (11, -215.69000244, -167.36000061, 63.09999847, b'MST', b'MST', 1, b'NectarCam', b'MST_MST_NectarCam'),\n",
       "       (12,  -99.01000214,  331.6000061 ,  9.69999981, b'MST', b'MST', 1, b'NectarCam', b'MST_MST_NectarCam'),\n",
       "       (13,  221.61999512, -355.25      , 47.        , b'MST', b'MST', 1, b'NectarCam', b'MST_MST_NectarCam'),\n",
       "       (14,   20.19000053, -352.45999146, 62.29999924, b'MST', b'MST', 1, b'NectarCam', b'MST_MST_NectarCam'),\n",
       "       (15, -197.30000305, -335.08999634, 77.09999847, b'MST', b'MST', 1, b'NectarCam', b'MST_MST_NectarCam'),\n",
       "       (16, -303.75      ,  339.75      , 22.29999924, b'MST', b'MST', 1, b'NectarCam', b'MST_MST_NectarCam'),\n",
       "       (17, -345.89001465,  130.16000366, 58.        , b'MST', b'MST', 1, b'NectarCam', b'MST_MST_NectarCam'),\n",
       "       (18, -375.89001465,  -78.23999786, 81.59999847, b'MST', b'MST', 1, b'NectarCam', b'MST_MST_NectarCam'),\n",
       "       (19,    0.        ,   -0.        , 29.        , b'MST', b'MST', 1, b'NectarCam', b'MST_MST_NectarCam')],\n",
       "      dtype=[('tel_id', '<i2'), ('pos_x', '<f8'), ('pos_y', '<f8'), ('pos_z', '<f8'), ('name', 'S3'), ('type', 'S3'), ('num_mirrors', '<i8'), ('camera_type', 'S9'), ('tel_description', 'S17')])"
      ]
     },
     "execution_count": 80,
     "metadata": {},
     "output_type": "execute_result"
    }
   ],
   "source": [
    "# print the North NectarCam baseline array, as the first 19 telescope in Prod5\n",
    "layout[:19]"
   ]
  },
  {
   "cell_type": "code",
   "execution_count": 153,
   "metadata": {},
   "outputs": [
    {
     "name": "stdout",
     "output_type": "stream",
     "text": [
      "event keys <KeysViewHDF5 ['subarray', 'telescope']>\n"
     ]
    }
   ],
   "source": [
    "dl1_event = file['dl1']['event']\n",
    "print('event keys', dl1_event.keys())"
   ]
  },
  {
   "cell_type": "code",
   "execution_count": 157,
   "metadata": {},
   "outputs": [
    {
     "name": "stdout",
     "output_type": "stream",
     "text": [
      "/dl1/event/subarray/trigger (100,) <class 'h5py._hl.dataset.Dataset'>\n"
     ]
    },
    {
     "ename": "OSError",
     "evalue": "Can't read data (no appropriate function for conversion path)",
     "output_type": "error",
     "traceback": [
      "\u001b[0;31m---------------------------------------------------------------------------\u001b[0m",
      "\u001b[0;31mOSError\u001b[0m                                   Traceback (most recent call last)",
      "\u001b[0;32m<ipython-input-157-d9214bcb0306>\u001b[0m in \u001b[0;36m<module>\u001b[0;34m\u001b[0m\n\u001b[1;32m     10\u001b[0m \u001b[0mprint\u001b[0m\u001b[0;34m(\u001b[0m\u001b[0mtrigger\u001b[0m\u001b[0;34m.\u001b[0m\u001b[0mname\u001b[0m\u001b[0;34m,\u001b[0m \u001b[0mtrigger\u001b[0m\u001b[0;34m.\u001b[0m\u001b[0mshape\u001b[0m\u001b[0;34m,\u001b[0m \u001b[0mtype\u001b[0m\u001b[0;34m(\u001b[0m\u001b[0mtrigger\u001b[0m\u001b[0;34m)\u001b[0m\u001b[0;34m)\u001b[0m\u001b[0;34m\u001b[0m\u001b[0;34m\u001b[0m\u001b[0m\n\u001b[1;32m     11\u001b[0m \u001b[0;32mwith\u001b[0m \u001b[0mtrigger\u001b[0m\u001b[0;34m.\u001b[0m\u001b[0mastype\u001b[0m\u001b[0;34m(\u001b[0m\u001b[0mdtype\u001b[0m\u001b[0;34m)\u001b[0m\u001b[0;34m:\u001b[0m\u001b[0;34m\u001b[0m\u001b[0;34m\u001b[0m\u001b[0m\n\u001b[0;32m---> 12\u001b[0;31m     \u001b[0mprint\u001b[0m\u001b[0;34m(\u001b[0m\u001b[0mtrigger\u001b[0m\u001b[0;34m[\u001b[0m\u001b[0;36m0\u001b[0m\u001b[0;34m]\u001b[0m\u001b[0;34m)\u001b[0m\u001b[0;34m\u001b[0m\u001b[0;34m\u001b[0m\u001b[0m\n\u001b[0m",
      "\u001b[0;32mh5py/_objects.pyx\u001b[0m in \u001b[0;36mh5py._objects.with_phil.wrapper\u001b[0;34m()\u001b[0m\n",
      "\u001b[0;32mh5py/_objects.pyx\u001b[0m in \u001b[0;36mh5py._objects.with_phil.wrapper\u001b[0;34m()\u001b[0m\n",
      "\u001b[0;32m~/miniconda3/envs/cta-dev/lib/python3.7/site-packages/h5py/_hl/dataset.py\u001b[0m in \u001b[0;36m__getitem__\u001b[0;34m(self, args)\u001b[0m\n\u001b[1;32m    571\u001b[0m         \u001b[0mmspace\u001b[0m \u001b[0;34m=\u001b[0m \u001b[0mh5s\u001b[0m\u001b[0;34m.\u001b[0m\u001b[0mcreate_simple\u001b[0m\u001b[0;34m(\u001b[0m\u001b[0mmshape\u001b[0m\u001b[0;34m)\u001b[0m\u001b[0;34m\u001b[0m\u001b[0;34m\u001b[0m\u001b[0m\n\u001b[1;32m    572\u001b[0m         \u001b[0mfspace\u001b[0m \u001b[0;34m=\u001b[0m \u001b[0mselection\u001b[0m\u001b[0;34m.\u001b[0m\u001b[0mid\u001b[0m\u001b[0;34m\u001b[0m\u001b[0;34m\u001b[0m\u001b[0m\n\u001b[0;32m--> 573\u001b[0;31m         \u001b[0mself\u001b[0m\u001b[0;34m.\u001b[0m\u001b[0mid\u001b[0m\u001b[0;34m.\u001b[0m\u001b[0mread\u001b[0m\u001b[0;34m(\u001b[0m\u001b[0mmspace\u001b[0m\u001b[0;34m,\u001b[0m \u001b[0mfspace\u001b[0m\u001b[0;34m,\u001b[0m \u001b[0marr\u001b[0m\u001b[0;34m,\u001b[0m \u001b[0mmtype\u001b[0m\u001b[0;34m,\u001b[0m \u001b[0mdxpl\u001b[0m\u001b[0;34m=\u001b[0m\u001b[0mself\u001b[0m\u001b[0;34m.\u001b[0m\u001b[0m_dxpl\u001b[0m\u001b[0;34m)\u001b[0m\u001b[0;34m\u001b[0m\u001b[0;34m\u001b[0m\u001b[0m\n\u001b[0m\u001b[1;32m    574\u001b[0m \u001b[0;34m\u001b[0m\u001b[0m\n\u001b[1;32m    575\u001b[0m         \u001b[0;31m# Patch up the output for NumPy\u001b[0m\u001b[0;34m\u001b[0m\u001b[0;34m\u001b[0m\u001b[0;34m\u001b[0m\u001b[0m\n",
      "\u001b[0;32mh5py/_objects.pyx\u001b[0m in \u001b[0;36mh5py._objects.with_phil.wrapper\u001b[0;34m()\u001b[0m\n",
      "\u001b[0;32mh5py/_objects.pyx\u001b[0m in \u001b[0;36mh5py._objects.with_phil.wrapper\u001b[0;34m()\u001b[0m\n",
      "\u001b[0;32mh5py/h5d.pyx\u001b[0m in \u001b[0;36mh5py.h5d.DatasetID.read\u001b[0;34m()\u001b[0m\n",
      "\u001b[0;32mh5py/_proxy.pyx\u001b[0m in \u001b[0;36mh5py._proxy.dset_rw\u001b[0;34m()\u001b[0m\n",
      "\u001b[0;32mh5py/_proxy.pyx\u001b[0m in \u001b[0;36mh5py._proxy.H5PY_H5Dread\u001b[0;34m()\u001b[0m\n",
      "\u001b[0;31mOSError\u001b[0m: Can't read data (no appropriate function for conversion path)"
     ]
    }
   ],
   "source": [
    "# trick to read trigger with h5py from Max --- no luck -> use pytables\n",
    "dtype = np.dtype([\n",
    "    ('obs_id', '<i4'),\n",
    "    ('event_id', '<i8'),\n",
    "    ('time', '<f8'),\n",
    "    ('tels_with_trigger', '?', (19,)),\n",
    "    ('event_type', '<i8')\n",
    "])\n",
    "trigger = dl1_event['subarray']['trigger']\n",
    "print(trigger.name, trigger.shape, type(trigger))\n",
    "with trigger.astype(dtype):\n",
    "    print(trigger[0])"
   ]
  },
  {
   "cell_type": "code",
   "execution_count": 147,
   "metadata": {},
   "outputs": [
    {
     "name": "stdout",
     "output_type": "stream",
     "text": [
      "images <KeysViewHDF5 ['tel_001', 'tel_002', 'tel_003', 'tel_004']>\n",
      "params <KeysViewHDF5 ['tel_001', 'tel_002', 'tel_003', 'tel_004']>\n",
      "trigger <HDF5 dataset \"trigger\": shape (287,), type \"|V22\">\n"
     ]
    }
   ],
   "source": [
    "images = dl1_event['telescope']['images']\n",
    "params = dl1_event['telescope']['parameters']\n",
    "tel_trig = dl1_event['telescope']['trigger']\n",
    "print('images', images.keys())\n",
    "print('params', params.keys())\n",
    "print('trigger', tel_trig)\n"
   ]
  },
  {
   "cell_type": "code",
   "execution_count": 148,
   "metadata": {},
   "outputs": [
    {
     "data": {
      "text/plain": [
       "(100, 1201, 1, 59039.71247001)"
      ]
     },
     "execution_count": 148,
     "metadata": {},
     "output_type": "execute_result"
    }
   ],
   "source": [
    "tel_trig[0]"
   ]
  },
  {
   "cell_type": "code",
   "execution_count": null,
   "metadata": {},
   "outputs": [],
   "source": []
  }
 ],
 "metadata": {
  "kernelspec": {
   "display_name": "Python 3",
   "language": "python",
   "name": "python3"
  },
  "language_info": {
   "codemirror_mode": {
    "name": "ipython",
    "version": 3
   },
   "file_extension": ".py",
   "mimetype": "text/x-python",
   "name": "python",
   "nbconvert_exporter": "python",
   "pygments_lexer": "ipython3",
   "version": "3.7.7"
  }
 },
 "nbformat": 4,
 "nbformat_minor": 4
}
